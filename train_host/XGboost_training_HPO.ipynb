{
 "cells": [
  {
   "cell_type": "code",
   "execution_count": null,
   "metadata": {},
   "outputs": [],
   "source": [
    "import os\n",
    "import boto3\n",
    "import re\n",
    "import copy\n",
    "import time\n",
    "from time import gmtime, strftime\n",
    "import sagemaker\n",
    "from sagemaker import get_execution_role\n",
    "from sagemaker.debugger import Rule, rule_configs\n",
    "\n",
    "role = get_execution_role()\n",
    "\n",
    "region = boto3.Session().region_name\n",
    "\n",
    "sagemaker_session = sagemaker.Session()\n",
    "\n",
    "bucket=sagemaker.Session().default_bucket()\n",
    "prefix = 'sagemaker/DEMO-xgboost-tripfare'"
   ]
  },
  {
   "cell_type": "code",
   "execution_count": 27,
   "metadata": {},
   "outputs": [
    {
     "name": "stdout",
     "output_type": "stream",
     "text": [
      "/opt/conda/lib/python3.7/site-packages/secretstorage/dhcrypto.py:16: CryptographyDeprecationWarning: int_from_bytes is deprecated, use int.from_bytes instead\n",
      "  from cryptography.utils import int_from_bytes\n",
      "/opt/conda/lib/python3.7/site-packages/secretstorage/util.py:25: CryptographyDeprecationWarning: int_from_bytes is deprecated, use int.from_bytes instead\n",
      "  from cryptography.utils import int_from_bytes\n",
      "\u001b[33mWARNING: Running pip as the 'root' user can result in broken permissions and conflicting behaviour with the system package manager. It is recommended to use a virtual environment instead: https://pip.pypa.io/warnings/venv\u001b[0m\n",
      "/opt/conda/lib/python3.7/site-packages/secretstorage/dhcrypto.py:16: CryptographyDeprecationWarning: int_from_bytes is deprecated, use int.from_bytes instead\n",
      "  from cryptography.utils import int_from_bytes\n",
      "/opt/conda/lib/python3.7/site-packages/secretstorage/util.py:25: CryptographyDeprecationWarning: int_from_bytes is deprecated, use int.from_bytes instead\n",
      "  from cryptography.utils import int_from_bytes\n",
      "\u001b[33mWARNING: Running pip as the 'root' user can result in broken permissions and conflicting behaviour with the system package manager. It is recommended to use a virtual environment instead: https://pip.pypa.io/warnings/venv\u001b[0m\n"
     ]
    }
   ],
   "source": [
    "!python -m pip install -Uq pip\n",
    "!python -m pip install -q awswrangler sagemaker==2.59.5 boto3==1.18.51"
   ]
  },
  {
   "cell_type": "code",
   "execution_count": 9,
   "metadata": {},
   "outputs": [
    {
     "name": "stdout",
     "output_type": "stream",
     "text": [
      "Stored variables and their in-db values:\n",
      "base_uri                                -> 's3://sagemaker-us-east-1-631450739534/abalone'\n",
      "batch_data_uri                          -> 's3://sagemaker-us-east-1-631450739534/abalone/aba\n",
      "input_data                              -> 's3://sagemaker-us-east-1-631450739534/sagemaker/D\n",
      "input_data_uri                          -> 's3://sagemaker-us-east-1-631450739534/abalone/aba\n",
      "input_zones                             -> 's3://sagemaker-us-east-1-631450739534/sagemaker/D\n",
      "local_path                              -> 'data/abalone-dataset.csv'\n",
      "model_url                               -> 's3://sagemaker-us-east-1-631450739534/sagemaker/D\n",
      "process_script                          -> '/root/Amazon-SageMaker-Workshop-Custom/preprocess\n",
      "test_path                               -> 's3://sagemaker-us-east-1-631450739534/sagemaker/D\n",
      "train_path                              -> 's3://sagemaker-us-east-1-631450739534/sagemaker/D\n",
      "training_job_name                       -> 'DEMO-xgboost-tripfare-train-2021-09-30-03-08-58-4\n",
      "tripfare_feature_group_name             -> 'fscw-tripfare-10-06-07-25'\n",
      "validation_path                         -> 's3://sagemaker-us-east-1-631450739534/sagemaker/D\n"
     ]
    }
   ],
   "source": [
    "%store\n",
    "%store -r"
   ]
  },
  {
   "cell_type": "code",
   "execution_count": 6,
   "metadata": {},
   "outputs": [],
   "source": [
    "# training step for generating model artifacts\n",
    "training_instance_type = \"ml.m5.xlarge\"\n",
    "model_output = f\"s3://{bucket}/{prefix}/model\"\n",
    "\n",
    "# Define the XGBoost training report rules\n",
    "# see: https://docs.aws.amazon.com/sagemaker/latest/dg/debugger-training-xgboost-report.html\n",
    "rules = [Rule.sagemaker(rule_configs.create_xgboost_report())]\n",
    "\n",
    "image_uri = sagemaker.image_uris.retrieve(\n",
    "    framework=\"xgboost\",\n",
    "    region=region,\n",
    "    version=\"1.2-2\",\n",
    "    py_version=\"py3\",\n",
    "    instance_type=training_instance_type,\n",
    ")\n",
    "xgb_train = sagemaker.estimator.Estimator(\n",
    "    image_uri=image_uri,\n",
    "    instance_type=training_instance_type,\n",
    "    instance_count=2,\n",
    "    output_path=model_output,\n",
    "    base_job_name=f\"{prefix.split('/')[-1]}-train\",\n",
    "    sagemaker_session=sagemaker_session,\n",
    "    role=role,\n",
    "    disable_profiler=False,  # Profile processing job\n",
    "    rules=rules,  # Report processing job\n",
    ")"
   ]
  },
  {
   "cell_type": "code",
   "execution_count": 7,
   "metadata": {},
   "outputs": [],
   "source": [
    "# Set some hyper parameters\n",
    "# https://docs.aws.amazon.com/sagemaker/latest/dg/xgboost_hyperparameters.html\n",
    "xgb_train.set_hyperparameters(\n",
    "    objective=\"reg:squarederror\",\n",
    "    num_round=100,\n",
    "    early_stopping_rounds=10,\n",
    "    max_depth=9,\n",
    "    eta=0.2,\n",
    "    gamma=4,\n",
    "    min_child_weight=300,\n",
    "    subsample=0.8,\n",
    ")"
   ]
  },
  {
   "cell_type": "code",
   "execution_count": 10,
   "metadata": {},
   "outputs": [],
   "source": [
    "from sagemaker.inputs import TrainingInput\n",
    "content_type = \"csv\"\n",
    "train_input = TrainingInput(\n",
    "    train_path, content_type=content_type, distribution='ShardedByS3Key'\n",
    ")\n",
    "validation_input = TrainingInput(\n",
    "    validation_path, content_type=content_type\n",
    ")"
   ]
  },
  {
   "cell_type": "code",
   "execution_count": 11,
   "metadata": {
    "scrolled": true
   },
   "outputs": [
    {
     "name": "stdout",
     "output_type": "stream",
     "text": [
      "2021-10-07 01:39:55 Starting - Starting the training job...\n",
      "2021-10-07 01:40:05 Starting - Launching requested ML instancesCreateXgboostReport: InProgress\n",
      "ProfilerReport-1633570795: InProgress\n",
      "......\n",
      "2021-10-07 01:41:06 Starting - Preparing the instances for training.........\n",
      "2021-10-07 01:42:48 Downloading - Downloading input data......\n",
      "2021-10-07 01:43:47 Training - Training image download completed. Training in progress.\u001b[35m[2021-10-07 01:43:45.415 ip-10-0-218-154.ec2.internal:1 INFO utils.py:27] RULE_JOB_STOP_SIGNAL_FILENAME: None\u001b[0m\n",
      "\u001b[35m[2021-10-07:01:43:45:INFO] Imported framework sagemaker_xgboost_container.training\u001b[0m\n",
      "\u001b[35m[2021-10-07:01:43:45:INFO] Failed to parse hyperparameter objective value reg:squarederror to Json.\u001b[0m\n",
      "\u001b[35mReturning the value itself\u001b[0m\n",
      "\u001b[35m[2021-10-07:01:43:45:INFO] No GPUs detected (normal if no gpus installed)\u001b[0m\n",
      "\u001b[35m[2021-10-07:01:43:45:INFO] Running XGBoost Sagemaker in algorithm mode\u001b[0m\n",
      "\u001b[35m[2021-10-07:01:43:45:INFO] Determined delimiter of CSV input is ','\u001b[0m\n",
      "\u001b[35m[2021-10-07:01:43:45:INFO] Determined delimiter of CSV input is ','\u001b[0m\n",
      "\u001b[35m[2021-10-07:01:43:45:INFO] Determined delimiter of CSV input is ','\u001b[0m\n",
      "\u001b[35m[2021-10-07:01:43:45:INFO] Determined delimiter of CSV input is ','\u001b[0m\n",
      "\u001b[35m[2021-10-07:01:43:45:INFO] Determined delimiter of CSV input is ','\u001b[0m\n",
      "\u001b[35m[2021-10-07:01:43:46:INFO] Distributed node training with 2 hosts: ['algo-1', 'algo-2']\u001b[0m\n",
      "\u001b[35m[2021-10-07:01:43:46:INFO] Failed to connect to RabitTracker on attempt 0\u001b[0m\n",
      "\u001b[35m[2021-10-07:01:43:46:INFO] Sleeping for 3 sec before retrying\u001b[0m\n",
      "\u001b[34m[2021-10-07 01:43:45.917 ip-10-0-230-199.ec2.internal:1 INFO utils.py:27] RULE_JOB_STOP_SIGNAL_FILENAME: None\u001b[0m\n",
      "\u001b[34m[2021-10-07:01:43:46:INFO] Imported framework sagemaker_xgboost_container.training\u001b[0m\n",
      "\u001b[34m[2021-10-07:01:43:46:INFO] Failed to parse hyperparameter objective value reg:squarederror to Json.\u001b[0m\n",
      "\u001b[34mReturning the value itself\u001b[0m\n",
      "\u001b[34m[2021-10-07:01:43:46:INFO] No GPUs detected (normal if no gpus installed)\u001b[0m\n",
      "\u001b[34m[2021-10-07:01:43:46:INFO] Running XGBoost Sagemaker in algorithm mode\u001b[0m\n",
      "\u001b[34m[2021-10-07:01:43:46:INFO] Determined delimiter of CSV input is ','\u001b[0m\n",
      "\u001b[34m[2021-10-07:01:43:46:INFO] Determined delimiter of CSV input is ','\u001b[0m\n",
      "\u001b[34m[2021-10-07:01:43:46:INFO] Determined delimiter of CSV input is ','\u001b[0m\n",
      "\u001b[34m[2021-10-07:01:43:46:INFO] Determined delimiter of CSV input is ','\u001b[0m\n",
      "\u001b[34m[2021-10-07:01:43:46:INFO] Determined delimiter of CSV input is ','\u001b[0m\n",
      "\u001b[34m[2021-10-07:01:43:46:INFO] Distributed node training with 2 hosts: ['algo-1', 'algo-2']\u001b[0m\n",
      "\u001b[34m[2021-10-07:01:43:46:INFO] start listen on algo-1:9099\u001b[0m\n",
      "\u001b[34m[2021-10-07:01:43:46:INFO] Rabit slave environment: {'DMLC_TRACKER_URI': 'algo-1', 'DMLC_TRACKER_PORT': 9099}\u001b[0m\n",
      "\u001b[34m[2021-10-07:01:43:46:INFO] Connected to RabitTracker.\u001b[0m\n",
      "\u001b[34m[2021-10-07:01:43:46:INFO] No data received from connection ('10.0.230.199', 46706). Closing.\u001b[0m\n",
      "\u001b[34mtask NULL connected to the tracker\u001b[0m\n",
      "\u001b[34m[2021-10-07:01:43:49:INFO] No data received from connection ('10.0.218.154', 45590). Closing.\u001b[0m\n",
      "\u001b[35m[2021-10-07:01:43:49:INFO] Connected to RabitTracker.\u001b[0m\n",
      "\u001b[35mtask NULL connected to the tracker\u001b[0m\n",
      "\u001b[35mtask NULL got new rank 0\u001b[0m\n",
      "\u001b[34m[2021-10-07:01:43:49:INFO] Recieve start signal from 10.0.218.154; assign rank 0\u001b[0m\n",
      "\u001b[34mtask NULL got new rank 1\u001b[0m\n",
      "\u001b[34m[2021-10-07:01:43:49:INFO] Recieve start signal from 10.0.230.199; assign rank 1\u001b[0m\n",
      "\u001b[34m[2021-10-07:01:43:49:INFO] @tracker All of 2 nodes getting started\u001b[0m\n",
      "\u001b[34m[2021-10-07:01:43:50:INFO] @tracker All nodes finishes job\u001b[0m\n",
      "\u001b[34m[2021-10-07:01:43:50:INFO] @tracker 0.17539596557617188 secs between node start and job finish\u001b[0m\n",
      "\u001b[34m[2021-10-07:01:43:50:INFO] start listen on algo-1:9100\u001b[0m\n",
      "\u001b[34m[2021-10-07:01:43:50:INFO] Rabit slave environment: {'DMLC_TRACKER_URI': 'algo-1', 'DMLC_TRACKER_PORT': 9100}\u001b[0m\n",
      "\u001b[34m[2021-10-07:01:43:50:INFO] Connected to RabitTracker.\u001b[0m\n",
      "\u001b[34m[2021-10-07:01:43:50:INFO] No data received from connection ('10.0.230.199', 37576). Closing.\u001b[0m\n",
      "\u001b[34mtask NULL connected to the tracker\u001b[0m\n",
      "\u001b[35m[2021-10-07:01:43:50:INFO] Failed to connect to RabitTracker on attempt 0\u001b[0m\n",
      "\u001b[35m[2021-10-07:01:43:50:INFO] Sleeping for 3 sec before retrying\u001b[0m\n",
      "\u001b[34m[2021-10-07:01:43:53:INFO] No data received from connection ('10.0.218.154', 49250). Closing.\u001b[0m\n",
      "\u001b[34m[2021-10-07:01:43:53:INFO] Recieve start signal from 10.0.218.154; assign rank 0\u001b[0m\n",
      "\u001b[34mtask NULL got new rank 1\u001b[0m\n",
      "\u001b[34m[2021-10-07:01:43:53:INFO] Recieve start signal from 10.0.230.199; assign rank 1\u001b[0m\n",
      "\u001b[34m[2021-10-07:01:43:53:INFO] Train matrix has 941296 rows and 9 columns\u001b[0m\n",
      "\u001b[34m[2021-10-07:01:43:53:INFO] @tracker All of 2 nodes getting started\u001b[0m\n",
      "\u001b[34m[2021-10-07:01:43:53:INFO] Validation matrix has 328327 rows\u001b[0m\n",
      "\u001b[34m[2021-10-07 01:43:53.338 ip-10-0-230-199.ec2.internal:1 INFO json_config.py:91] Creating hook from json_config at /opt/ml/input/config/debughookconfig.json.\u001b[0m\n",
      "\u001b[34m[2021-10-07 01:43:53.338 ip-10-0-230-199.ec2.internal:1 INFO hook.py:201] tensorboard_dir has not been set for the hook. SMDebug will not be exporting tensorboard summaries.\u001b[0m\n",
      "\u001b[34m[2021-10-07 01:43:53.338 ip-10-0-230-199.ec2.internal:1 INFO profiler_config_parser.py:102] User has disabled profiler.\u001b[0m\n",
      "\u001b[34m[2021-10-07 01:43:53.339 ip-10-0-230-199.ec2.internal:1 INFO hook.py:255] Saving to /opt/ml/output/tensors\u001b[0m\n",
      "\u001b[34m[2021-10-07 01:43:53.339 ip-10-0-230-199.ec2.internal:1 INFO state_store.py:77] The checkpoint config file /opt/ml/input/config/checkpointconfig.json does not exist.\u001b[0m\n",
      "\u001b[34m[2021-10-07:01:43:53:INFO] Debug hook created from config\u001b[0m\n",
      "\u001b[34m[01:43:53] WARNING: ../src/gbm/gbtree.cc:129: Tree method is automatically selected to be 'approx' for distributed training.\u001b[0m\n",
      "\u001b[35m[2021-10-07:01:43:53:INFO] Connected to RabitTracker.\u001b[0m\n",
      "\u001b[35mtask NULL connected to the tracker\u001b[0m\n",
      "\u001b[35mtask NULL got new rank 0\u001b[0m\n",
      "\u001b[35m[2021-10-07:01:43:53:INFO] Train matrix has 551424 rows and 9 columns\u001b[0m\n",
      "\u001b[35m[2021-10-07:01:43:53:INFO] Validation matrix has 328327 rows\u001b[0m\n",
      "\u001b[35m[2021-10-07 01:43:53.327 ip-10-0-218-154.ec2.internal:1 INFO json_config.py:91] Creating hook from json_config at /opt/ml/input/config/debughookconfig.json.\u001b[0m\n",
      "\u001b[35m[2021-10-07 01:43:53.328 ip-10-0-218-154.ec2.internal:1 INFO hook.py:201] tensorboard_dir has not been set for the hook. SMDebug will not be exporting tensorboard summaries.\u001b[0m\n",
      "\u001b[35m[2021-10-07 01:43:53.328 ip-10-0-218-154.ec2.internal:1 INFO profiler_config_parser.py:102] User has disabled profiler.\u001b[0m\n",
      "\u001b[35m[2021-10-07 01:43:53.329 ip-10-0-218-154.ec2.internal:1 INFO hook.py:255] Saving to /opt/ml/output/tensors\u001b[0m\n",
      "\u001b[35m[2021-10-07 01:43:53.329 ip-10-0-218-154.ec2.internal:1 INFO state_store.py:77] The checkpoint config file /opt/ml/input/config/checkpointconfig.json does not exist.\u001b[0m\n",
      "\u001b[35m[2021-10-07:01:43:53:INFO] Debug hook created from config\u001b[0m\n",
      "\u001b[35m[01:43:53] WARNING: ../src/gbm/gbtree.cc:129: Tree method is automatically selected to be 'approx' for distributed training.\u001b[0m\n",
      "\u001b[34m[2021-10-07 01:43:54.535 ip-10-0-230-199.ec2.internal:1 INFO hook.py:423] Monitoring the collections: hyperparameters, metrics, feature_importance, labels, predictions\u001b[0m\n",
      "\u001b[34m[2021-10-07:01:43:54:INFO] [0]#011train-rmse:16.68899#011validation-rmse:16.74075\u001b[0m\n",
      "\u001b[35m[2021-10-07 01:43:54.527 ip-10-0-218-154.ec2.internal:1 INFO hook.py:423] Monitoring the collections: metrics, feature_importance, labels, predictions, hyperparameters\u001b[0m\n",
      "\u001b[34m[2021-10-07:01:43:55:INFO] [1]#011train-rmse:14.76936#011validation-rmse:14.82496\u001b[0m\n",
      "\u001b[34m[2021-10-07:01:43:56:INFO] [2]#011train-rmse:13.35102#011validation-rmse:13.41174\u001b[0m\n",
      "\u001b[34m[2021-10-07:01:43:57:INFO] [3]#011train-rmse:12.36147#011validation-rmse:12.42304\u001b[0m\n",
      "\u001b[34m[2021-10-07:01:43:58:INFO] [4]#011train-rmse:11.60338#011validation-rmse:11.66591\u001b[0m\n",
      "\u001b[34m[2021-10-07:01:43:59:INFO] [5]#011train-rmse:11.07815#011validation-rmse:11.14310\u001b[0m\n",
      "\u001b[34m[2021-10-07:01:44:01:INFO] [6]#011train-rmse:10.65758#011validation-rmse:10.72441\u001b[0m\n",
      "\u001b[34m[2021-10-07:01:44:02:INFO] [7]#011train-rmse:10.26070#011validation-rmse:10.32476\u001b[0m\n",
      "\u001b[34m[2021-10-07:01:44:04:INFO] [8]#011train-rmse:10.05631#011validation-rmse:10.11988\u001b[0m\n",
      "\u001b[34m[2021-10-07:01:44:06:INFO] [9]#011train-rmse:9.80950#011validation-rmse:9.87213\u001b[0m\n",
      "\u001b[34m[2021-10-07:01:44:07:INFO] [10]#011train-rmse:9.60676#011validation-rmse:9.66989\u001b[0m\n",
      "\u001b[34m[2021-10-07:01:44:08:INFO] [11]#011train-rmse:9.50985#011validation-rmse:9.57287\u001b[0m\n",
      "\u001b[34m[2021-10-07:01:44:09:INFO] [12]#011train-rmse:9.39903#011validation-rmse:9.46239\u001b[0m\n",
      "\u001b[34m[2021-10-07:01:44:10:INFO] [13]#011train-rmse:9.35235#011validation-rmse:9.41664\u001b[0m\n",
      "\u001b[34m[2021-10-07:01:44:11:INFO] [14]#011train-rmse:9.26194#011validation-rmse:9.32581\u001b[0m\n",
      "\u001b[34m[2021-10-07:01:44:12:INFO] [15]#011train-rmse:9.20720#011validation-rmse:9.27128\u001b[0m\n",
      "\u001b[34m[2021-10-07:01:44:13:INFO] [16]#011train-rmse:9.14704#011validation-rmse:9.21122\u001b[0m\n",
      "\u001b[34m[2021-10-07:01:44:14:INFO] [17]#011train-rmse:9.06673#011validation-rmse:9.13378\u001b[0m\n",
      "\u001b[34m[2021-10-07:01:44:15:INFO] [18]#011train-rmse:9.03141#011validation-rmse:9.09830\u001b[0m\n",
      "\u001b[34m[2021-10-07:01:44:17:INFO] [19]#011train-rmse:9.00934#011validation-rmse:9.07703\u001b[0m\n",
      "\u001b[34m[2021-10-07:01:44:18:INFO] [20]#011train-rmse:8.95750#011validation-rmse:9.02674\u001b[0m\n",
      "\u001b[34m[2021-10-07:01:44:19:INFO] [21]#011train-rmse:8.91019#011validation-rmse:8.98041\u001b[0m\n",
      "\u001b[34m[2021-10-07:01:44:20:INFO] [22]#011train-rmse:8.84293#011validation-rmse:8.91174\u001b[0m\n",
      "\u001b[34m[2021-10-07:01:44:21:INFO] [23]#011train-rmse:8.80094#011validation-rmse:8.87094\u001b[0m\n",
      "\u001b[34m[2021-10-07:01:44:22:INFO] [24]#011train-rmse:8.76636#011validation-rmse:8.83824\u001b[0m\n",
      "\u001b[34m[2021-10-07:01:44:23:INFO] [25]#011train-rmse:8.75558#011validation-rmse:8.82748\u001b[0m\n",
      "\u001b[34m[2021-10-07:01:44:24:INFO] [26]#011train-rmse:8.70576#011validation-rmse:8.77842\u001b[0m\n",
      "\u001b[34m[2021-10-07:01:44:25:INFO] [27]#011train-rmse:8.67987#011validation-rmse:8.75346\u001b[0m\n",
      "\u001b[34m[2021-10-07:01:44:26:INFO] [28]#011train-rmse:8.61465#011validation-rmse:8.68897\u001b[0m\n",
      "\u001b[34m[2021-10-07:01:44:27:INFO] [29]#011train-rmse:8.58322#011validation-rmse:8.65858\u001b[0m\n",
      "\u001b[34m[2021-10-07:01:44:28:INFO] [30]#011train-rmse:8.56878#011validation-rmse:8.64425\u001b[0m\n",
      "\u001b[34m[2021-10-07:01:44:29:INFO] [31]#011train-rmse:8.53707#011validation-rmse:8.61239\u001b[0m\n",
      "\u001b[34m[2021-10-07:01:44:30:INFO] [32]#011train-rmse:8.50027#011validation-rmse:8.57597\u001b[0m\n",
      "\u001b[34m[2021-10-07:01:44:31:INFO] [33]#011train-rmse:8.46300#011validation-rmse:8.53908\u001b[0m\n",
      "\u001b[34m[2021-10-07:01:44:32:INFO] [34]#011train-rmse:8.40858#011validation-rmse:8.48322\u001b[0m\n",
      "\u001b[34m[2021-10-07:01:44:33:INFO] [35]#011train-rmse:8.37884#011validation-rmse:8.45547\u001b[0m\n",
      "\u001b[34m[2021-10-07:01:44:35:INFO] [36]#011train-rmse:8.36179#011validation-rmse:8.43907\u001b[0m\n",
      "\u001b[34m[2021-10-07:01:44:36:INFO] [37]#011train-rmse:8.33485#011validation-rmse:8.41264\u001b[0m\n",
      "\u001b[34m[2021-10-07:01:44:37:INFO] [38]#011train-rmse:8.30923#011validation-rmse:8.38770\u001b[0m\n",
      "\u001b[34m[2021-10-07:01:44:38:INFO] [39]#011train-rmse:8.28895#011validation-rmse:8.36716\u001b[0m\n",
      "\u001b[34m[2021-10-07:01:44:39:INFO] [40]#011train-rmse:8.26079#011validation-rmse:8.33933\u001b[0m\n",
      "\u001b[34m[2021-10-07:01:44:40:INFO] [41]#011train-rmse:8.24754#011validation-rmse:8.32757\u001b[0m\n",
      "\u001b[34m[2021-10-07:01:44:41:INFO] [42]#011train-rmse:8.20649#011validation-rmse:8.28699\u001b[0m\n",
      "\u001b[34m[2021-10-07:01:44:42:INFO] [43]#011train-rmse:8.16938#011validation-rmse:8.25090\u001b[0m\n",
      "\u001b[34m[2021-10-07:01:44:43:INFO] [44]#011train-rmse:8.15517#011validation-rmse:8.23744\u001b[0m\n",
      "\u001b[34m[2021-10-07:01:44:44:INFO] [45]#011train-rmse:8.12015#011validation-rmse:8.20245\u001b[0m\n",
      "\u001b[34m[2021-10-07:01:44:46:INFO] [46]#011train-rmse:8.10303#011validation-rmse:8.18558\u001b[0m\n",
      "\u001b[34m[2021-10-07:01:44:47:INFO] [47]#011train-rmse:8.08377#011validation-rmse:8.16690\u001b[0m\n",
      "\u001b[34m[2021-10-07:01:44:48:INFO] [48]#011train-rmse:8.05600#011validation-rmse:8.13937\u001b[0m\n",
      "\u001b[34m[2021-10-07:01:44:49:INFO] [49]#011train-rmse:8.03988#011validation-rmse:8.12519\u001b[0m\n",
      "\u001b[34m[2021-10-07:01:44:50:INFO] [50]#011train-rmse:8.01414#011validation-rmse:8.10153\u001b[0m\n",
      "\u001b[34m[2021-10-07:01:44:52:INFO] [51]#011train-rmse:7.99615#011validation-rmse:8.08356\u001b[0m\n",
      "\u001b[34m[2021-10-07:01:44:53:INFO] [52]#011train-rmse:7.98146#011validation-rmse:8.06995\u001b[0m\n",
      "\u001b[34m[2021-10-07:01:44:54:INFO] [53]#011train-rmse:7.96109#011validation-rmse:8.05107\u001b[0m\n",
      "\u001b[34m[2021-10-07:01:44:55:INFO] [54]#011train-rmse:7.95045#011validation-rmse:8.04102\u001b[0m\n",
      "\u001b[34m[2021-10-07:01:44:55:INFO] [55]#011train-rmse:7.91897#011validation-rmse:8.00949\u001b[0m\n",
      "\u001b[34m[2021-10-07:01:44:57:INFO] [56]#011train-rmse:7.89201#011validation-rmse:7.98319\u001b[0m\n",
      "\u001b[34m[2021-10-07:01:44:58:INFO] [57]#011train-rmse:7.87324#011validation-rmse:7.96456\u001b[0m\n",
      "\u001b[34m[2021-10-07:01:44:59:INFO] [58]#011train-rmse:7.86482#011validation-rmse:7.95619\u001b[0m\n",
      "\u001b[34m[2021-10-07:01:45:00:INFO] [59]#011train-rmse:7.83979#011validation-rmse:7.93154\u001b[0m\n",
      "\u001b[34m[2021-10-07:01:45:01:INFO] [60]#011train-rmse:7.82984#011validation-rmse:7.92222\u001b[0m\n",
      "\u001b[34m[2021-10-07:01:45:03:INFO] [61]#011train-rmse:7.80841#011validation-rmse:7.90278\u001b[0m\n",
      "\u001b[34m[2021-10-07:01:45:05:INFO] [62]#011train-rmse:7.78659#011validation-rmse:7.88094\u001b[0m\n",
      "\u001b[34m[2021-10-07:01:45:06:INFO] [63]#011train-rmse:7.76131#011validation-rmse:7.85761\u001b[0m\n",
      "\u001b[34m[2021-10-07:01:45:07:INFO] [64]#011train-rmse:7.75189#011validation-rmse:7.84837\u001b[0m\n",
      "\u001b[34m[2021-10-07:01:45:08:INFO] [65]#011train-rmse:7.74736#011validation-rmse:7.84427\u001b[0m\n",
      "\u001b[34m[2021-10-07:01:45:10:INFO] [66]#011train-rmse:7.71387#011validation-rmse:7.81184\u001b[0m\n",
      "\u001b[34m[2021-10-07:01:45:11:INFO] [67]#011train-rmse:7.69985#011validation-rmse:7.79845\u001b[0m\n",
      "\u001b[34m[2021-10-07:01:45:12:INFO] [68]#011train-rmse:7.68346#011validation-rmse:7.78243\u001b[0m\n",
      "\u001b[34m[2021-10-07:01:45:13:INFO] [69]#011train-rmse:7.66768#011validation-rmse:7.76777\u001b[0m\n",
      "\u001b[34m[2021-10-07:01:45:14:INFO] [70]#011train-rmse:7.64673#011validation-rmse:7.74719\u001b[0m\n",
      "\u001b[34m[2021-10-07:01:45:16:INFO] [71]#011train-rmse:7.64061#011validation-rmse:7.74082\u001b[0m\n",
      "\u001b[34m[2021-10-07:01:45:17:INFO] [72]#011train-rmse:7.63185#011validation-rmse:7.73293\u001b[0m\n",
      "\u001b[34m[2021-10-07:01:45:18:INFO] [73]#011train-rmse:7.60714#011validation-rmse:7.70860\u001b[0m\n",
      "\u001b[34m[2021-10-07:01:45:19:INFO] [74]#011train-rmse:7.60244#011validation-rmse:7.70391\u001b[0m\n",
      "\u001b[34m[2021-10-07:01:45:20:INFO] [75]#011train-rmse:7.58679#011validation-rmse:7.68836\u001b[0m\n",
      "\u001b[34m[2021-10-07:01:45:22:INFO] [76]#011train-rmse:7.56437#011validation-rmse:7.66584\u001b[0m\n",
      "\u001b[34m[2021-10-07:01:45:23:INFO] [77]#011train-rmse:7.54331#011validation-rmse:7.64618\u001b[0m\n",
      "\u001b[34m[2021-10-07:01:45:24:INFO] [78]#011train-rmse:7.53308#011validation-rmse:7.63624\u001b[0m\n",
      "\u001b[34m[2021-10-07:01:45:25:INFO] [79]#011train-rmse:7.51296#011validation-rmse:7.61626\u001b[0m\n",
      "\u001b[34m[2021-10-07:01:45:26:INFO] [80]#011train-rmse:7.50143#011validation-rmse:7.60463\u001b[0m\n",
      "\u001b[34m[2021-10-07:01:45:28:INFO] [81]#011train-rmse:7.48802#011validation-rmse:7.59071\u001b[0m\n",
      "\u001b[34m[2021-10-07:01:45:29:INFO] [82]#011train-rmse:7.47742#011validation-rmse:7.58038\u001b[0m\n",
      "\u001b[34m[2021-10-07:01:45:30:INFO] [83]#011train-rmse:7.46406#011validation-rmse:7.56755\u001b[0m\n",
      "\u001b[34m[2021-10-07:01:45:31:INFO] [84]#011train-rmse:7.45532#011validation-rmse:7.55946\u001b[0m\n",
      "\u001b[34m[2021-10-07:01:45:32:INFO] [85]#011train-rmse:7.44368#011validation-rmse:7.54744\u001b[0m\n",
      "\u001b[34m[2021-10-07:01:45:34:INFO] [86]#011train-rmse:7.43568#011validation-rmse:7.53989\u001b[0m\n",
      "\u001b[34m[2021-10-07:01:45:35:INFO] [87]#011train-rmse:7.42950#011validation-rmse:7.53518\u001b[0m\n",
      "\u001b[34m[2021-10-07:01:45:36:INFO] [88]#011train-rmse:7.41771#011validation-rmse:7.52419\u001b[0m\n",
      "\u001b[34m[2021-10-07:01:45:37:INFO] [89]#011train-rmse:7.40497#011validation-rmse:7.51248\u001b[0m\n",
      "\u001b[34m[2021-10-07:01:45:38:INFO] [90]#011train-rmse:7.38548#011validation-rmse:7.49372\u001b[0m\n",
      "\u001b[34m[2021-10-07:01:45:40:INFO] [91]#011train-rmse:7.36740#011validation-rmse:7.47602\u001b[0m\n",
      "\u001b[34m[2021-10-07:01:45:41:INFO] [92]#011train-rmse:7.36393#011validation-rmse:7.47331\u001b[0m\n",
      "\u001b[34m[2021-10-07:01:45:42:INFO] [93]#011train-rmse:7.35819#011validation-rmse:7.46814\u001b[0m\n",
      "\u001b[34m[2021-10-07:01:45:43:INFO] [94]#011train-rmse:7.34424#011validation-rmse:7.45449\u001b[0m\n",
      "\u001b[34m[2021-10-07:01:45:44:INFO] [95]#011train-rmse:7.33775#011validation-rmse:7.44889\u001b[0m\n",
      "\u001b[34m[2021-10-07:01:45:47:INFO] [96]#011train-rmse:7.32728#011validation-rmse:7.43879\u001b[0m\n",
      "\u001b[34m[2021-10-07:01:45:47:INFO] [97]#011train-rmse:7.31280#011validation-rmse:7.42544\u001b[0m\n",
      "\u001b[34m[2021-10-07:01:45:49:INFO] [98]#011train-rmse:7.30534#011validation-rmse:7.41893\u001b[0m\n",
      "\u001b[34m[2021-10-07:01:45:50:INFO] [99]#011train-rmse:7.29937#011validation-rmse:7.41336\u001b[0m\n",
      "\u001b[34m[2021-10-07:01:45:50:INFO] @tracker All nodes finishes job\u001b[0m\n",
      "\u001b[34m[2021-10-07:01:45:50:INFO] @tracker 116.80903315544128 secs between node start and job finish\u001b[0m\n",
      "\n",
      "2021-10-07 01:46:08 Uploading - Uploading generated training model\n",
      "2021-10-07 01:46:08 Completed - Training job completed\n",
      "Training seconds: 388\n",
      "Billable seconds: 388\n"
     ]
    }
   ],
   "source": [
    "xgb_train.fit({'train': train_input, 'validation': validation_input})"
   ]
  },
  {
   "cell_type": "code",
   "execution_count": 12,
   "metadata": {},
   "outputs": [],
   "source": [
    "training_job_name = xgb_train.latest_training_job.job_name\n",
    "model_url = xgb_train.model_data"
   ]
  },
  {
   "cell_type": "code",
   "execution_count": 13,
   "metadata": {},
   "outputs": [
    {
     "name": "stdout",
     "output_type": "stream",
     "text": [
      "Stored 'training_job_name' (str)\n",
      "Stored 'model_url' (str)\n"
     ]
    }
   ],
   "source": [
    "%store training_job_name\n",
    "%store model_url"
   ]
  },
  {
   "cell_type": "code",
   "execution_count": 25,
   "metadata": {},
   "outputs": [],
   "source": [
    "xgboost_endpoint_name = \"xgboost-endpoint-\" + strftime(\"%Y-%m-%d-%H-%M-%S\", gmtime())\n",
    "xgboost_predictor = xgb_train.deploy(\n",
    "    initial_instance_count=1, instance_type=\"ml.m5.xlarge\", endpoint_name=xgboost_endpoint_name\n",
    ")"
   ]
  },
  {
   "cell_type": "code",
   "execution_count": 33,
   "metadata": {},
   "outputs": [],
   "source": [
    "import awswrangler as wr\n",
    "test_df = wr.s3.read_csv(\n",
    "        path=test_path, dataset=True, nrows=50, header=None\n",
    "    )"
   ]
  },
  {
   "cell_type": "code",
   "execution_count": 91,
   "metadata": {
    "scrolled": true
   },
   "outputs": [
    {
     "data": {
      "text/plain": [
       "['18.535001754760742',\n",
       " '11.761689186096191',\n",
       " '15.242060661315918',\n",
       " '10.931342124938965',\n",
       " '28.7455997467041',\n",
       " '5.776196479797363',\n",
       " '17.04107093811035',\n",
       " '23.121328353881836',\n",
       " '23.43851089477539',\n",
       " '24.959461212158203',\n",
       " '17.03936195373535',\n",
       " '10.529860496520996',\n",
       " '13.59338092803955',\n",
       " '15.18577766418457',\n",
       " '29.108205795288086',\n",
       " '21.132905960083008',\n",
       " '10.574868202209473',\n",
       " '10.79728889465332',\n",
       " '7.7672014236450195',\n",
       " '16.365497589111328',\n",
       " '28.37923240661621',\n",
       " '7.599057197570801',\n",
       " '17.271512985229492',\n",
       " '11.84465503692627',\n",
       " '7.650399208068848',\n",
       " '16.048227310180664',\n",
       " '12.509238243103027',\n",
       " '24.174177169799805',\n",
       " '22.60703468322754',\n",
       " '17.289512634277344',\n",
       " '10.817380905151367',\n",
       " '16.75693130493164',\n",
       " '6.5838398933410645',\n",
       " '16.780078887939453',\n",
       " '6.483026504516602',\n",
       " '7.807983875274658',\n",
       " '15.202792167663574',\n",
       " '21.334579467773438',\n",
       " '22.63629150390625',\n",
       " '15.02584171295166',\n",
       " '32.15640640258789',\n",
       " '8.679388999938965',\n",
       " '20.924877166748047',\n",
       " '3.613661527633667',\n",
       " '7.0890374183654785',\n",
       " '25.154184341430664',\n",
       " '7.058923244476318',\n",
       " '18.583572387695312',\n",
       " '6.556534290313721',\n",
       " '7.1260085105896',\n",
       " '17.29636573791504',\n",
       " '11.487503051757812',\n",
       " '35.032718658447266',\n",
       " '18.201818466186523',\n",
       " '8.741583824157715',\n",
       " '15.794858932495117',\n",
       " '44.48213577270508',\n",
       " '15.961697578430176',\n",
       " '8.324894905090332',\n",
       " '15.608016014099121',\n",
       " '32.96622848510742',\n",
       " '14.48505687713623',\n",
       " '8.528165817260742',\n",
       " '9.66811466217041',\n",
       " '8.736233711242676',\n",
       " '10.1237154006958',\n",
       " '36.43312454223633',\n",
       " '7.37851619720459',\n",
       " '14.562095642089844',\n",
       " '35.608978271484375',\n",
       " '9.65053939819336',\n",
       " '21.05364990234375',\n",
       " '19.96894073486328',\n",
       " '25.686153411865234',\n",
       " '20.34064483642578',\n",
       " '20.881797790527344',\n",
       " '8.988133430480957',\n",
       " '11.600801467895508',\n",
       " '11.281227111816406',\n",
       " '11.58252239227295',\n",
       " '28.277591705322266',\n",
       " '13.881668090820312',\n",
       " '14.479456901550293',\n",
       " '41.15399169921875',\n",
       " '23.505727767944336',\n",
       " '15.038935661315918',\n",
       " '10.190719604492188',\n",
       " '18.071170806884766',\n",
       " '25.18731689453125',\n",
       " '22.667978286743164',\n",
       " '10.403382301330566',\n",
       " '36.3527717590332',\n",
       " '22.174274444580078',\n",
       " '6.830602645874023',\n",
       " '18.398374557495117',\n",
       " '19.795841217041016',\n",
       " '24.2242488861084',\n",
       " '11.4741792678833',\n",
       " '7.642066955566406',\n",
       " '14.504117965698242']"
      ]
     },
     "execution_count": 91,
     "metadata": {},
     "output_type": "execute_result"
    }
   ],
   "source": [
    "from sagemaker.serializers import CSVSerializer\n",
    "from sagemaker.deserializers import CSVDeserializer\n",
    "\n",
    "xgboost_predictor.serializer = CSVSerializer()\n",
    "xgboost_predictor.deserializer = CSVDeserializer()\n",
    "xgboost_predictor.predict(test_df.iloc[:,1:].values)[0]"
   ]
  },
  {
   "cell_type": "markdown",
   "metadata": {},
   "source": [
    "## Automatic model Tuning \n",
    "Amazon SageMaker automatic model tuning, also known as hyperparameter tuning, finds the best version of a model by running many training jobs on your dataset using the algorithm and ranges of hyperparameters that you specify. It then chooses the hyperparameter values that result in a model that performs the best, as measured by a metric that you choose.\n",
    "For example, suppose that you want to solve a binary classification problem on this marketing dataset. Your goal is to maximize the area under the curve (auc) metric of the algorithm by training an XGBoost Algorithm model. You don't know which values of the eta, alpha, min_child_weight, and max_depth hyperparameters to use to train the best model. To find the best values for these hyperparameters, you can specify ranges of values that Amazon SageMaker hyperparameter tuning searches to find the combination of values that results in the training job that performs the best as measured by the objective metric that you chose. Hyperparameter tuning launches training jobs that use hyperparameter values in the ranges that you specified, and returns the training job with highest auc.\n"
   ]
  },
  {
   "cell_type": "code",
   "execution_count": 115,
   "metadata": {},
   "outputs": [],
   "source": [
    "from sagemaker.tuner import IntegerParameter, CategoricalParameter, ContinuousParameter, HyperparameterTuner\n",
    "hyperparameter_ranges = {'eta': ContinuousParameter(0, 1),\n",
    "                            'min_child_weight': ContinuousParameter(1, 10),\n",
    "                            'alpha': ContinuousParameter(0, 2),\n",
    "                            'max_depth': IntegerParameter(1, 10)}"
   ]
  },
  {
   "cell_type": "code",
   "execution_count": 126,
   "metadata": {},
   "outputs": [],
   "source": [
    "objective_metric_name = 'validation:rmse'\n",
    "objective_type = 'Minimize'"
   ]
  },
  {
   "cell_type": "code",
   "execution_count": 127,
   "metadata": {},
   "outputs": [],
   "source": [
    "tuner = HyperparameterTuner(xgb_train,\n",
    "                            objective_metric_name,\n",
    "                            hyperparameter_ranges,\n",
    "                            objective_type=objective_type,\n",
    "                            max_jobs=10,\n",
    "                            max_parallel_jobs=3)"
   ]
  },
  {
   "cell_type": "code",
   "execution_count": 128,
   "metadata": {},
   "outputs": [
    {
     "name": "stdout",
     "output_type": "stream",
     "text": [
      "............................................................................................................................................................................................................................................................................................!\n"
     ]
    }
   ],
   "source": [
    "tuner.fit({'train': train_input, 'validation': validation_input})"
   ]
  },
  {
   "cell_type": "code",
   "execution_count": null,
   "metadata": {},
   "outputs": [],
   "source": [
    "boto3.client('sagemaker').describe_hyper_parameter_tuning_job(\n",
    "HyperParameterTuningJobName=tuner.latest_tuning_job.job_name)['HyperParameterTuningJobStatus']"
   ]
  },
  {
   "cell_type": "code",
   "execution_count": null,
   "metadata": {},
   "outputs": [],
   "source": [
    "# return the best training job name\n",
    "tuner.best_training_job()"
   ]
  },
  {
   "cell_type": "code",
   "execution_count": null,
   "metadata": {},
   "outputs": [],
   "source": [
    "#  Deploy the best trained or user specified model to an Amazon SageMaker endpoint\n",
    "tuner_predictor = tuner.deploy(initial_instance_count=1,\n",
    "                           instance_type='ml.m4.xlarge')"
   ]
  },
  {
   "cell_type": "code",
   "execution_count": null,
   "metadata": {},
   "outputs": [],
   "source": [
    "# Create a serializer\n",
    "tuner_predictor.serializer = CSVSerializer()\n",
    "tuner_predictor.deserializer = CSVDeserializer()"
   ]
  },
  {
   "cell_type": "code",
   "execution_count": null,
   "metadata": {},
   "outputs": [],
   "source": [
    "# Predict\n",
    "tuner_predictor.predict(test_df.iloc[:,1:].values)[0]"
   ]
  },
  {
   "cell_type": "markdown",
   "metadata": {},
   "source": [
    "### (Optional) Delete the Endpoint\n",
    "If you're done with this exercise, please run the delete_endpoint line in the cell below. This will remove the hosted endpoint and avoid any charges from a stray instance being left on."
   ]
  },
  {
   "cell_type": "code",
   "execution_count": 114,
   "metadata": {},
   "outputs": [],
   "source": [
    "xgboost_predictor.delete_endpoint(delete_endpoint_config=True)"
   ]
  },
  {
   "cell_type": "code",
   "execution_count": null,
   "metadata": {},
   "outputs": [],
   "source": [
    "tuner_predictor.delete_endpoint(delete_endpoint_config=True)"
   ]
  }
 ],
 "metadata": {
  "instance_type": "ml.t3.medium",
  "kernelspec": {
   "display_name": "Python 3 (Data Science)",
   "language": "python",
   "name": "python3__SAGEMAKER_INTERNAL__arn:aws:sagemaker:us-east-1:081325390199:image/datascience-1.0"
  },
  "language_info": {
   "codemirror_mode": {
    "name": "ipython",
    "version": 3
   },
   "file_extension": ".py",
   "mimetype": "text/x-python",
   "name": "python",
   "nbconvert_exporter": "python",
   "pygments_lexer": "ipython3",
   "version": "3.7.10"
  }
 },
 "nbformat": 4,
 "nbformat_minor": 4
}
