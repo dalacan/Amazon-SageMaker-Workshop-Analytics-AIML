{
 "cells": [
  {
   "cell_type": "code",
   "execution_count": 10,
   "metadata": {},
   "outputs": [],
   "source": [
    "import os\n",
    "import boto3\n",
    "import re\n",
    "import copy\n",
    "import time\n",
    "from time import gmtime, strftime\n",
    "import sagemaker\n",
    "from sagemaker import get_execution_role\n",
    "from sagemaker.debugger import Rule, rule_configs\n",
    "\n",
    "role = get_execution_role()\n",
    "\n",
    "region = boto3.Session().region_name\n",
    "\n",
    "sagemaker_session = sagemaker.Session()\n",
    "\n",
    "bucket=sagemaker.Session().default_bucket()\n",
    "prefix = 'sagemaker/DEMO-xgboost-tripfare'"
   ]
  },
  {
   "cell_type": "code",
   "execution_count": 27,
   "metadata": {},
   "outputs": [
    {
     "name": "stdout",
     "output_type": "stream",
     "text": [
      "/opt/conda/lib/python3.7/site-packages/secretstorage/dhcrypto.py:16: CryptographyDeprecationWarning: int_from_bytes is deprecated, use int.from_bytes instead\n",
      "  from cryptography.utils import int_from_bytes\n",
      "/opt/conda/lib/python3.7/site-packages/secretstorage/util.py:25: CryptographyDeprecationWarning: int_from_bytes is deprecated, use int.from_bytes instead\n",
      "  from cryptography.utils import int_from_bytes\n",
      "\u001b[33mWARNING: Running pip as the 'root' user can result in broken permissions and conflicting behaviour with the system package manager. It is recommended to use a virtual environment instead: https://pip.pypa.io/warnings/venv\u001b[0m\n",
      "/opt/conda/lib/python3.7/site-packages/secretstorage/dhcrypto.py:16: CryptographyDeprecationWarning: int_from_bytes is deprecated, use int.from_bytes instead\n",
      "  from cryptography.utils import int_from_bytes\n",
      "/opt/conda/lib/python3.7/site-packages/secretstorage/util.py:25: CryptographyDeprecationWarning: int_from_bytes is deprecated, use int.from_bytes instead\n",
      "  from cryptography.utils import int_from_bytes\n",
      "\u001b[33mWARNING: Running pip as the 'root' user can result in broken permissions and conflicting behaviour with the system package manager. It is recommended to use a virtual environment instead: https://pip.pypa.io/warnings/venv\u001b[0m\n"
     ]
    }
   ],
   "source": [
    "!python -m pip install -Uq pip\n",
    "!python -m pip install -q awswrangler sagemaker==2.59.5 boto3==1.18.51"
   ]
  },
  {
   "cell_type": "code",
   "execution_count": 7,
   "metadata": {},
   "outputs": [
    {
     "name": "stdout",
     "output_type": "stream",
     "text": [
      "Stored variables and their in-db values:\n",
      "test_path                   -> 's3://sagemaker-us-east-1-631450739534/sagemaker/D\n",
      "train_path                  -> 's3://sagemaker-us-east-1-631450739534/sagemaker/D\n",
      "validation_path             -> 's3://sagemaker-us-east-1-631450739534/sagemaker/D\n"
     ]
    }
   ],
   "source": [
    "%store\n",
    "%store -r"
   ]
  },
  {
   "cell_type": "code",
   "execution_count": 21,
   "metadata": {},
   "outputs": [],
   "source": [
    "# training step for generating model artifacts\n",
    "training_instance_type = \"ml.m5.xlarge\"\n",
    "model_output = f\"s3://{bucket}/{prefix}/model\"\n",
    "\n",
    "# Define the XGBoost training report rules\n",
    "# see: https://docs.aws.amazon.com/sagemaker/latest/dg/debugger-training-xgboost-report.html\n",
    "rules = [Rule.sagemaker(rule_configs.create_xgboost_report())]\n",
    "\n",
    "image_uri = sagemaker.image_uris.retrieve(\n",
    "    framework=\"xgboost\",\n",
    "    region=region,\n",
    "    version=\"1.3-1\",\n",
    "    py_version=\"py3\",\n",
    "    instance_type=training_instance_type,\n",
    ")\n",
    "xgb_train = sagemaker.estimator.Estimator(\n",
    "    image_uri=image_uri,\n",
    "    instance_type=training_instance_type,\n",
    "    instance_count=2,\n",
    "    output_path=model_output,\n",
    "    base_job_name=f\"{prefix.split('/')[-1]}-train\",\n",
    "    sagemaker_session=sagemaker_session,\n",
    "    role=role,\n",
    "    disable_profiler=False,  # Profile processing job\n",
    "    rules=rules,  # Report processing job\n",
    ")"
   ]
  },
  {
   "cell_type": "code",
   "execution_count": 22,
   "metadata": {},
   "outputs": [],
   "source": [
    "# Set some hyper parameters\n",
    "# https://docs.aws.amazon.com/sagemaker/latest/dg/xgboost_hyperparameters.html\n",
    "xgb_train.set_hyperparameters(\n",
    "    objective=\"reg:squarederror\",\n",
    "    num_round=100,\n",
    "    early_stopping_rounds=10,\n",
    "    max_depth=9,\n",
    "    eta=0.2,\n",
    "    gamma=4,\n",
    "    min_child_weight=300,\n",
    "    subsample=0.8,\n",
    ")"
   ]
  },
  {
   "cell_type": "code",
   "execution_count": 23,
   "metadata": {},
   "outputs": [],
   "source": [
    "from sagemaker.inputs import TrainingInput\n",
    "content_type = \"csv\"\n",
    "train_input = TrainingInput(\n",
    "    train_path, content_type=content_type, distribution='ShardedByS3Key'\n",
    ")\n",
    "validation_input = TrainingInput(\n",
    "    validation_path, content_type=content_type\n",
    ")"
   ]
  },
  {
   "cell_type": "code",
   "execution_count": 24,
   "metadata": {
    "scrolled": true
   },
   "outputs": [
    {
     "name": "stdout",
     "output_type": "stream",
     "text": [
      "2021-09-30 03:08:58 Starting - Starting the training job...\n",
      "2021-09-30 03:09:22 Starting - Launching requested ML instancesCreateXgboostReport: InProgress\n",
      "ProfilerReport-1632971338: InProgress\n",
      "......\n",
      "2021-09-30 03:10:22 Starting - Preparing the instances for training............\n",
      "2021-09-30 03:12:22 Downloading - Downloading input data...\n",
      "2021-09-30 03:12:56 Training - Training image download completed. Training in progress..\u001b[34m[2021-09-30 03:12:57.921 ip-10-2-81-62.ec2.internal:1 INFO utils.py:27] RULE_JOB_STOP_SIGNAL_FILENAME: None\u001b[0m\n",
      "\u001b[34m[2021-09-30:03:12:58:INFO] Imported framework sagemaker_xgboost_container.training\u001b[0m\n",
      "\u001b[34m[2021-09-30:03:12:58:INFO] Failed to parse hyperparameter objective value reg:squarederror to Json.\u001b[0m\n",
      "\u001b[34mReturning the value itself\u001b[0m\n",
      "\u001b[34m[2021-09-30:03:12:58:INFO] No GPUs detected (normal if no gpus installed)\u001b[0m\n",
      "\u001b[34m[2021-09-30:03:12:58:INFO] Running XGBoost Sagemaker in algorithm mode\u001b[0m\n",
      "\u001b[34m[2021-09-30:03:12:58:INFO] Determined delimiter of CSV input is ','\u001b[0m\n",
      "\u001b[34m[2021-09-30:03:12:58:INFO] Determined delimiter of CSV input is ','\u001b[0m\n",
      "\u001b[34m[2021-09-30:03:12:58:INFO] Determined delimiter of CSV input is ','\u001b[0m\n",
      "\u001b[34m[2021-09-30:03:12:58:INFO] Determined delimiter of CSV input is ','\u001b[0m\n",
      "\u001b[34m[2021-09-30:03:12:58:INFO] Determined delimiter of CSV input is ','\u001b[0m\n",
      "\u001b[34m[2021-09-30:03:12:58:INFO] Determined delimiter of CSV input is ','\u001b[0m\n",
      "\u001b[34m[2021-09-30:03:12:59:INFO] Distributed node training with 2 hosts: ['algo-1', 'algo-2']\u001b[0m\n",
      "\u001b[34m[2021-09-30:03:12:59:INFO] start listen on algo-1:9099\u001b[0m\n",
      "\u001b[34m[2021-09-30:03:12:59:INFO] Rabit slave environment: {'DMLC_TRACKER_URI': 'algo-1', 'DMLC_TRACKER_PORT': 9099}\u001b[0m\n",
      "\u001b[34m[2021-09-30:03:12:59:INFO] Connected to RabitTracker.\u001b[0m\n",
      "\u001b[34m[2021-09-30:03:12:59:INFO] No data received from connection ('10.2.81.62', 34236). Closing.\u001b[0m\n",
      "\u001b[34m[2021-09-30:03:13:00:INFO] No data received from connection ('10.2.125.93', 52368). Closing.\u001b[0m\n",
      "\u001b[34m[2021-09-30:03:13:00:INFO] Recieve start signal from 10.2.125.93; assign rank 0\u001b[0m\n",
      "\u001b[34m[03:13:00] task NULL got new rank 1\u001b[0m\n",
      "\u001b[34m[2021-09-30:03:13:00:INFO] Recieve start signal from 10.2.81.62; assign rank 1\u001b[0m\n",
      "\u001b[34m[2021-09-30:03:13:00:INFO] @tracker All of 2 nodes getting started\u001b[0m\n",
      "\u001b[34m[2021-09-30:03:13:00:INFO] @tracker All nodes finishes job\u001b[0m\n",
      "\u001b[34m[2021-09-30:03:13:00:INFO] @tracker 0.0006911754608154297 secs between node start and job finish\u001b[0m\n",
      "\u001b[34m[2021-09-30:03:13:00:INFO] start listen on algo-1:9100\u001b[0m\n",
      "\u001b[34m[2021-09-30:03:13:00:INFO] Rabit slave environment: {'DMLC_TRACKER_URI': 'algo-1', 'DMLC_TRACKER_PORT': 9100}\u001b[0m\n",
      "\u001b[34m[2021-09-30:03:13:00:INFO] Connected to RabitTracker.\u001b[0m\n",
      "\u001b[34m[2021-09-30:03:13:00:INFO] No data received from connection ('10.2.81.62', 55282). Closing.\u001b[0m\n",
      "\u001b[35m[2021-09-30 03:12:59.196 ip-10-2-125-93.ec2.internal:1 INFO utils.py:27] RULE_JOB_STOP_SIGNAL_FILENAME: None\u001b[0m\n",
      "\u001b[35m[2021-09-30:03:12:59:INFO] Imported framework sagemaker_xgboost_container.training\u001b[0m\n",
      "\u001b[35m[2021-09-30:03:12:59:INFO] Failed to parse hyperparameter objective value reg:squarederror to Json.\u001b[0m\n",
      "\u001b[35mReturning the value itself\u001b[0m\n",
      "\u001b[35m[2021-09-30:03:12:59:INFO] No GPUs detected (normal if no gpus installed)\u001b[0m\n",
      "\u001b[35m[2021-09-30:03:12:59:INFO] Running XGBoost Sagemaker in algorithm mode\u001b[0m\n",
      "\u001b[35m[2021-09-30:03:12:59:INFO] Determined delimiter of CSV input is ','\u001b[0m\n",
      "\u001b[35m[2021-09-30:03:12:59:INFO] Determined delimiter of CSV input is ','\u001b[0m\n",
      "\u001b[35m[2021-09-30:03:12:59:INFO] Determined delimiter of CSV input is ','\u001b[0m\n",
      "\u001b[35m[2021-09-30:03:12:59:INFO] Determined delimiter of CSV input is ','\u001b[0m\n",
      "\u001b[35m[2021-09-30:03:12:59:INFO] Determined delimiter of CSV input is ','\u001b[0m\n",
      "\u001b[35m[2021-09-30:03:13:00:INFO] Determined delimiter of CSV input is ','\u001b[0m\n",
      "\u001b[35m[2021-09-30:03:13:00:INFO] Distributed node training with 2 hosts: ['algo-1', 'algo-2']\u001b[0m\n",
      "\u001b[35m[2021-09-30:03:13:00:INFO] Connected to RabitTracker.\u001b[0m\n",
      "\u001b[35m[03:13:00] task NULL got new rank 0\u001b[0m\n",
      "\u001b[35m[2021-09-30:03:13:00:INFO] Failed to connect to RabitTracker on attempt 0\u001b[0m\n",
      "\u001b[35m[2021-09-30:03:13:00:INFO] Sleeping for 3 sec before retrying\u001b[0m\n",
      "\u001b[35m[2021-09-30:03:13:03:INFO] Connected to RabitTracker.\u001b[0m\n",
      "\u001b[34m[2021-09-30:03:13:03:INFO] No data received from connection ('10.2.125.93', 33090). Closing.\u001b[0m\n",
      "\u001b[34m[2021-09-30:03:13:03:INFO] Recieve start signal from 10.2.125.93; assign rank 0\u001b[0m\n",
      "\u001b[34m[03:13:03] task NULL got new rank 1\u001b[0m\n",
      "\u001b[34m[2021-09-30:03:13:03:INFO] Train matrix has 1382435 rows and 9 columns\u001b[0m\n",
      "\u001b[34m[2021-09-30:03:13:03:INFO] Validation matrix has 328327 rows\u001b[0m\n",
      "\u001b[34m[2021-09-30 03:13:03.847 ip-10-2-81-62.ec2.internal:1 INFO json_config.py:91] Creating hook from json_config at /opt/ml/input/config/debughookconfig.json.\u001b[0m\n",
      "\u001b[34m[2021-09-30 03:13:03.847 ip-10-2-81-62.ec2.internal:1 INFO hook.py:201] tensorboard_dir has not been set for the hook. SMDebug will not be exporting tensorboard summaries.\u001b[0m\n",
      "\u001b[34m[2021-09-30 03:13:03.848 ip-10-2-81-62.ec2.internal:1 INFO profiler_config_parser.py:102] User has disabled profiler.\u001b[0m\n",
      "\u001b[34m[2021-09-30:03:13:03:INFO] Recieve start signal from 10.2.81.62; assign rank 1\u001b[0m\n",
      "\u001b[34m[2021-09-30:03:13:03:INFO] @tracker All of 2 nodes getting started\u001b[0m\n",
      "\u001b[34m[2021-09-30 03:13:03.848 ip-10-2-81-62.ec2.internal:1 INFO hook.py:255] Saving to /opt/ml/output/tensors\u001b[0m\n",
      "\u001b[34m[2021-09-30 03:13:03.849 ip-10-2-81-62.ec2.internal:1 INFO state_store.py:77] The checkpoint config file /opt/ml/input/config/checkpointconfig.json does not exist.\u001b[0m\n",
      "\u001b[34m[2021-09-30:03:13:03:INFO] Debug hook created from config\u001b[0m\n",
      "\u001b[34m/miniconda3/lib/python3.7/site-packages/xgboost/training.py:20: UserWarning: Old style callback is deprecated.  See: https://xgboost.readthedocs.io/en/latest/python/callbacks.html\n",
      "  warnings.warn(f'Old style callback is deprecated.  See: {link}', UserWarning)\u001b[0m\n",
      "\u001b[35m[03:13:03] task NULL got new rank 0\u001b[0m\n",
      "\u001b[35m[2021-09-30:03:13:03:INFO] Train matrix has 1382435 rows and 9 columns\u001b[0m\n",
      "\u001b[35m[2021-09-30:03:13:03:INFO] Validation matrix has 328327 rows\u001b[0m\n",
      "\u001b[35m[2021-09-30 03:13:03.898 ip-10-2-125-93.ec2.internal:1 INFO json_config.py:91] Creating hook from json_config at /opt/ml/input/config/debughookconfig.json.\u001b[0m\n",
      "\u001b[35m[2021-09-30 03:13:03.899 ip-10-2-125-93.ec2.internal:1 INFO hook.py:201] tensorboard_dir has not been set for the hook. SMDebug will not be exporting tensorboard summaries.\u001b[0m\n",
      "\u001b[35m[2021-09-30 03:13:03.899 ip-10-2-125-93.ec2.internal:1 INFO profiler_config_parser.py:102] User has disabled profiler.\u001b[0m\n",
      "\u001b[35m[2021-09-30 03:13:03.900 ip-10-2-125-93.ec2.internal:1 INFO hook.py:255] Saving to /opt/ml/output/tensors\u001b[0m\n",
      "\u001b[35m[2021-09-30 03:13:03.900 ip-10-2-125-93.ec2.internal:1 INFO state_store.py:77] The checkpoint config file /opt/ml/input/config/checkpointconfig.json does not exist.\u001b[0m\n",
      "\u001b[35m[2021-09-30:03:13:03:INFO] Debug hook created from config\u001b[0m\n",
      "\u001b[35m/miniconda3/lib/python3.7/site-packages/xgboost/training.py:20: UserWarning: Old style callback is deprecated.  See: https://xgboost.readthedocs.io/en/latest/python/callbacks.html\n",
      "  warnings.warn(f'Old style callback is deprecated.  See: {link}', UserWarning)\u001b[0m\n",
      "\u001b[35m[2021-09-30 03:13:05.674 ip-10-2-125-93.ec2.internal:1 INFO hook.py:423] Monitoring the collections: predictions, hyperparameters, feature_importance, metrics, labels\u001b[0m\n",
      "\u001b[34m[2021-09-30 03:13:05.622 ip-10-2-81-62.ec2.internal:1 INFO hook.py:423] Monitoring the collections: metrics, predictions, feature_importance, hyperparameters, labels\u001b[0m\n",
      "\u001b[34m[2021-09-30:03:13:05:INFO] [0]#011train-rmse:16.65599#011validation-rmse:16.71774\u001b[0m\n",
      "\u001b[34m[2021-09-30:03:13:07:INFO] [1]#011train-rmse:14.74782#011validation-rmse:14.81204\u001b[0m\n",
      "\u001b[34m[2021-09-30:03:13:08:INFO] [2]#011train-rmse:13.35896#011validation-rmse:13.42764\u001b[0m\n",
      "\u001b[34m[2021-09-30:03:13:10:INFO] [3]#011train-rmse:12.30154#011validation-rmse:12.37222\u001b[0m\n",
      "\u001b[34m[2021-09-30:03:13:11:INFO] [4]#011train-rmse:11.54869#011validation-rmse:11.62176\u001b[0m\n",
      "\u001b[34m[2021-09-30:03:13:12:INFO] [5]#011train-rmse:11.00933#011validation-rmse:11.08291\u001b[0m\n",
      "\u001b[34m[2021-09-30:03:13:14:INFO] [6]#011train-rmse:10.56491#011validation-rmse:10.64027\u001b[0m\n",
      "\u001b[34m[2021-09-30:03:13:15:INFO] [7]#011train-rmse:10.18361#011validation-rmse:10.25984\u001b[0m\n",
      "\u001b[34m[2021-09-30:03:13:16:INFO] [8]#011train-rmse:9.86416#011validation-rmse:9.93889\u001b[0m\n",
      "\u001b[34m[2021-09-30:03:13:18:INFO] [9]#011train-rmse:9.62141#011validation-rmse:9.69721\u001b[0m\n",
      "\u001b[34m[2021-09-30:03:13:19:INFO] [10]#011train-rmse:9.51603#011validation-rmse:9.59088\u001b[0m\n",
      "\u001b[34m[2021-09-30:03:13:21:INFO] [11]#011train-rmse:9.35505#011validation-rmse:9.43303\u001b[0m\n",
      "\u001b[34m[2021-09-30:03:13:22:INFO] [12]#011train-rmse:9.24739#011validation-rmse:9.32627\u001b[0m\n",
      "\u001b[34m[2021-09-30:03:13:23:INFO] [13]#011train-rmse:9.19972#011validation-rmse:9.27836\u001b[0m\n",
      "\u001b[34m[2021-09-30:03:13:25:INFO] [14]#011train-rmse:9.12789#011validation-rmse:9.20777\u001b[0m\n",
      "\u001b[34m[2021-09-30:03:13:26:INFO] [15]#011train-rmse:8.98944#011validation-rmse:9.07099\u001b[0m\n",
      "\u001b[34m[2021-09-30:03:13:27:INFO] [16]#011train-rmse:8.89180#011validation-rmse:8.97658\u001b[0m\n",
      "\u001b[34m[2021-09-30:03:13:29:INFO] [17]#011train-rmse:8.84017#011validation-rmse:8.92671\u001b[0m\n",
      "\u001b[34m[2021-09-30:03:13:30:INFO] [18]#011train-rmse:8.81281#011validation-rmse:8.90111\u001b[0m\n",
      "\u001b[34m[2021-09-30:03:13:31:INFO] [19]#011train-rmse:8.74386#011validation-rmse:8.83383\u001b[0m\n",
      "\u001b[34m[2021-09-30:03:13:33:INFO] [20]#011train-rmse:8.68772#011validation-rmse:8.77834\u001b[0m\n",
      "\u001b[34m[2021-09-30:03:13:34:INFO] [21]#011train-rmse:8.66046#011validation-rmse:8.75143\u001b[0m\n",
      "\u001b[34m[2021-09-30:03:13:36:INFO] [22]#011train-rmse:8.61615#011validation-rmse:8.70850\u001b[0m\n",
      "\u001b[34m[2021-09-30:03:13:37:INFO] [23]#011train-rmse:8.58707#011validation-rmse:8.67992\u001b[0m\n",
      "\u001b[34m[2021-09-30:03:13:38:INFO] [24]#011train-rmse:8.52913#011validation-rmse:8.62452\u001b[0m\n",
      "\u001b[34m[2021-09-30:03:13:39:INFO] [25]#011train-rmse:8.50867#011validation-rmse:8.60478\u001b[0m\n",
      "\u001b[34m[2021-09-30:03:13:41:INFO] [26]#011train-rmse:8.46530#011validation-rmse:8.56195\u001b[0m\n",
      "\u001b[34m[2021-09-30:03:13:42:INFO] [27]#011train-rmse:8.41790#011validation-rmse:8.51447\u001b[0m\n",
      "\u001b[34m[2021-09-30:03:13:44:INFO] [28]#011train-rmse:8.37622#011validation-rmse:8.47223\u001b[0m\n",
      "\u001b[34m[2021-09-30:03:13:45:INFO] [29]#011train-rmse:8.32628#011validation-rmse:8.42494\u001b[0m\n",
      "\u001b[34m[2021-09-30:03:13:46:INFO] [30]#011train-rmse:8.28876#011validation-rmse:8.38915\u001b[0m\n",
      "\u001b[34m[2021-09-30:03:13:48:INFO] [31]#011train-rmse:8.25539#011validation-rmse:8.35675\u001b[0m\n",
      "\u001b[34m[2021-09-30:03:13:49:INFO] [32]#011train-rmse:8.22744#011validation-rmse:8.33045\u001b[0m\n",
      "\u001b[34m[2021-09-30:03:13:50:INFO] [33]#011train-rmse:8.19927#011validation-rmse:8.30383\u001b[0m\n",
      "\u001b[34m[2021-09-30:03:13:52:INFO] [34]#011train-rmse:8.16874#011validation-rmse:8.27446\u001b[0m\n",
      "\u001b[34m[2021-09-30:03:13:53:INFO] [35]#011train-rmse:8.14992#011validation-rmse:8.25731\u001b[0m\n",
      "\u001b[34m[2021-09-30:03:13:55:INFO] [36]#011train-rmse:8.11138#011validation-rmse:8.21957\u001b[0m\n",
      "\u001b[34m[2021-09-30:03:13:57:INFO] [37]#011train-rmse:8.07467#011validation-rmse:8.18374\u001b[0m\n",
      "\u001b[34m[2021-09-30:03:13:58:INFO] [38]#011train-rmse:8.05008#011validation-rmse:8.16067\u001b[0m\n",
      "\u001b[34m[2021-09-30:03:13:59:INFO] [39]#011train-rmse:8.02207#011validation-rmse:8.13432\u001b[0m\n",
      "\u001b[34m[2021-09-30:03:14:01:INFO] [40]#011train-rmse:7.99146#011validation-rmse:8.10478\u001b[0m\n",
      "\u001b[34m[2021-09-30:03:14:03:INFO] [41]#011train-rmse:7.95122#011validation-rmse:8.06619\u001b[0m\n",
      "\u001b[34m[2021-09-30:03:14:05:INFO] [42]#011train-rmse:7.93366#011validation-rmse:8.05084\u001b[0m\n",
      "\u001b[34m[2021-09-30:03:14:07:INFO] [43]#011train-rmse:7.89825#011validation-rmse:8.01755\u001b[0m\n",
      "\u001b[34m[2021-09-30:03:14:08:INFO] [44]#011train-rmse:7.87468#011validation-rmse:7.99505\u001b[0m\n",
      "\u001b[34m[2021-09-30:03:14:10:INFO] [45]#011train-rmse:7.85379#011validation-rmse:7.97479\u001b[0m\n",
      "\u001b[34m[2021-09-30:03:14:12:INFO] [46]#011train-rmse:7.83124#011validation-rmse:7.95319\u001b[0m\n",
      "\u001b[34m[2021-09-30:03:14:13:INFO] [47]#011train-rmse:7.79320#011validation-rmse:7.91488\u001b[0m\n",
      "\u001b[34m[2021-09-30:03:14:14:INFO] [48]#011train-rmse:7.77850#011validation-rmse:7.90154\u001b[0m\n",
      "\u001b[34m[2021-09-30:03:14:16:INFO] [49]#011train-rmse:7.71929#011validation-rmse:7.84517\u001b[0m\n",
      "\u001b[34m[2021-09-30:03:14:17:INFO] [50]#011train-rmse:7.69638#011validation-rmse:7.82386\u001b[0m\n",
      "\u001b[34m[2021-09-30:03:14:19:INFO] [51]#011train-rmse:7.67509#011validation-rmse:7.80477\u001b[0m\n",
      "\u001b[34m[2021-09-30:03:14:20:INFO] [52]#011train-rmse:7.66344#011validation-rmse:7.79495\u001b[0m\n",
      "\u001b[34m[2021-09-30:03:14:22:INFO] [53]#011train-rmse:7.63783#011validation-rmse:7.77017\u001b[0m\n",
      "\u001b[34m[2021-09-30:03:14:23:INFO] [54]#011train-rmse:7.63148#011validation-rmse:7.76542\u001b[0m\n",
      "\u001b[34m[2021-09-30:03:14:24:INFO] [55]#011train-rmse:7.59584#011validation-rmse:7.73248\u001b[0m\n",
      "\u001b[34m[2021-09-30:03:14:27:INFO] [56]#011train-rmse:7.57737#011validation-rmse:7.71436\u001b[0m\n",
      "\u001b[34m[2021-09-30:03:14:28:INFO] [57]#011train-rmse:7.56400#011validation-rmse:7.70240\u001b[0m\n",
      "\u001b[34m[2021-09-30:03:14:29:INFO] [58]#011train-rmse:7.54707#011validation-rmse:7.68667\u001b[0m\n",
      "\u001b[34m[2021-09-30:03:14:31:INFO] [59]#011train-rmse:7.53434#011validation-rmse:7.67548\u001b[0m\n",
      "\u001b[34m[2021-09-30:03:14:32:INFO] [60]#011train-rmse:7.52368#011validation-rmse:7.66563\u001b[0m\n",
      "\u001b[34m[2021-09-30:03:14:34:INFO] [61]#011train-rmse:7.49882#011validation-rmse:7.64335\u001b[0m\n",
      "\u001b[34m[2021-09-30:03:14:36:INFO] [62]#011train-rmse:7.48774#011validation-rmse:7.63277\u001b[0m\n",
      "\u001b[34m[2021-09-30:03:14:37:INFO] [63]#011train-rmse:7.47202#011validation-rmse:7.61965\u001b[0m\n",
      "\u001b[34m[2021-09-30:03:14:38:INFO] [64]#011train-rmse:7.45588#011validation-rmse:7.60464\u001b[0m\n",
      "\u001b[34m[2021-09-30:03:14:39:INFO] [65]#011train-rmse:7.44178#011validation-rmse:7.59130\u001b[0m\n",
      "\u001b[34m[2021-09-30:03:14:42:INFO] [66]#011train-rmse:7.42473#011validation-rmse:7.57536\u001b[0m\n",
      "\u001b[34m[2021-09-30:03:14:43:INFO] [67]#011train-rmse:7.41491#011validation-rmse:7.56677\u001b[0m\n",
      "\u001b[34m[2021-09-30:03:14:44:INFO] [68]#011train-rmse:7.40715#011validation-rmse:7.56003\u001b[0m\n",
      "\u001b[34m[2021-09-30:03:14:45:INFO] [69]#011train-rmse:7.38047#011validation-rmse:7.53436\u001b[0m\n",
      "\u001b[34m[2021-09-30:03:14:47:INFO] [70]#011train-rmse:7.36658#011validation-rmse:7.52155\u001b[0m\n",
      "\u001b[34m[2021-09-30:03:14:49:INFO] [71]#011train-rmse:7.35519#011validation-rmse:7.51129\u001b[0m\n",
      "\u001b[34m[2021-09-30:03:14:50:INFO] [72]#011train-rmse:7.34757#011validation-rmse:7.50406\u001b[0m\n",
      "\u001b[34m[2021-09-30:03:14:52:INFO] [73]#011train-rmse:7.33885#011validation-rmse:7.49674\u001b[0m\n",
      "\u001b[34m[2021-09-30:03:14:53:INFO] [74]#011train-rmse:7.30541#011validation-rmse:7.46486\u001b[0m\n",
      "\u001b[34m[2021-09-30:03:14:54:INFO] [75]#011train-rmse:7.29104#011validation-rmse:7.45186\u001b[0m\n",
      "\u001b[34m[2021-09-30:03:14:57:INFO] [76]#011train-rmse:7.27705#011validation-rmse:7.43798\u001b[0m\n",
      "\u001b[34m[2021-09-30:03:14:58:INFO] [77]#011train-rmse:7.25788#011validation-rmse:7.41993\u001b[0m\n",
      "\u001b[34m[2021-09-30:03:15:00:INFO] [78]#011train-rmse:7.24498#011validation-rmse:7.40727\u001b[0m\n",
      "\u001b[34m[2021-09-30:03:15:01:INFO] [79]#011train-rmse:7.22922#011validation-rmse:7.39160\u001b[0m\n",
      "\u001b[34m[2021-09-30:03:15:03:INFO] [80]#011train-rmse:7.21593#011validation-rmse:7.38015\u001b[0m\n",
      "\u001b[34m[2021-09-30:03:15:07:INFO] [81]#011train-rmse:7.20339#011validation-rmse:7.36875\u001b[0m\n",
      "\u001b[34m[2021-09-30:03:15:08:INFO] [82]#011train-rmse:7.17777#011validation-rmse:7.34251\u001b[0m\n",
      "\u001b[34m[2021-09-30:03:15:09:INFO] [83]#011train-rmse:7.16947#011validation-rmse:7.33497\u001b[0m\n",
      "\u001b[34m[2021-09-30:03:15:10:INFO] [84]#011train-rmse:7.15408#011validation-rmse:7.32005\u001b[0m\n",
      "\u001b[34m[2021-09-30:03:15:12:INFO] [85]#011train-rmse:7.14686#011validation-rmse:7.31316\u001b[0m\n",
      "\u001b[34m[2021-09-30:03:15:14:INFO] [86]#011train-rmse:7.13950#011validation-rmse:7.30666\u001b[0m\n",
      "\u001b[34m[2021-09-30:03:15:16:INFO] [87]#011train-rmse:7.12763#011validation-rmse:7.29496\u001b[0m\n",
      "\u001b[34m[2021-09-30:03:15:17:INFO] [88]#011train-rmse:7.10934#011validation-rmse:7.27737\u001b[0m\n",
      "\u001b[34m[2021-09-30:03:15:18:INFO] [89]#011train-rmse:7.10218#011validation-rmse:7.27114\u001b[0m\n",
      "\u001b[34m[2021-09-30:03:15:19:INFO] [90]#011train-rmse:7.08916#011validation-rmse:7.25912\u001b[0m\n",
      "\u001b[34m[2021-09-30:03:15:22:INFO] [91]#011train-rmse:7.06677#011validation-rmse:7.23722\u001b[0m\n",
      "\u001b[34m[2021-09-30:03:15:24:INFO] [92]#011train-rmse:7.05315#011validation-rmse:7.22449\u001b[0m\n",
      "\u001b[34m[2021-09-30:03:15:25:INFO] [93]#011train-rmse:7.04657#011validation-rmse:7.21902\u001b[0m\n",
      "\u001b[34m[2021-09-30:03:15:26:INFO] [94]#011train-rmse:7.02693#011validation-rmse:7.19952\u001b[0m\n",
      "\u001b[34m[2021-09-30:03:15:28:INFO] [95]#011train-rmse:7.01162#011validation-rmse:7.18412\u001b[0m\n",
      "\u001b[34m[2021-09-30:03:15:31:INFO] [96]#011train-rmse:7.00693#011validation-rmse:7.18013\u001b[0m\n",
      "\u001b[34m[2021-09-30:03:15:32:INFO] [97]#011train-rmse:6.99527#011validation-rmse:7.16985\u001b[0m\n",
      "\u001b[34m[2021-09-30:03:15:33:INFO] [98]#011train-rmse:6.97967#011validation-rmse:7.15534\u001b[0m\n",
      "\u001b[34m[2021-09-30:03:15:35:INFO] [99]#011train-rmse:6.96981#011validation-rmse:7.14712\u001b[0m\n",
      "\u001b[34m[2021-09-30:03:15:35:INFO] @tracker All nodes finishes job\u001b[0m\n",
      "\u001b[34m[2021-09-30:03:15:35:INFO] @tracker 151.47161889076233 secs between node start and job finish\u001b[0m\n",
      "\n",
      "2021-09-30 03:16:18 Uploading - Uploading generated training model\n",
      "2021-09-30 03:16:18 Completed - Training job completed\n",
      "ProfilerReport-1632971338: NoIssuesFound\n",
      "Training seconds: 454\n",
      "Billable seconds: 454\n"
     ]
    }
   ],
   "source": [
    "xgb_train.fit({'train': train_input, 'validation': validation_input})"
   ]
  },
  {
   "cell_type": "code",
   "execution_count": 112,
   "metadata": {},
   "outputs": [],
   "source": [
    "training_job_name = xgb_train.latest_training_job.job_name\n",
    "model_url = xgb_train.model_data"
   ]
  },
  {
   "cell_type": "code",
   "execution_count": 113,
   "metadata": {},
   "outputs": [
    {
     "name": "stdout",
     "output_type": "stream",
     "text": [
      "Stored 'training_job_name' (str)\n",
      "Stored 'model_url' (str)\n"
     ]
    }
   ],
   "source": [
    "%store training_job_name\n",
    "%store model_url"
   ]
  },
  {
   "cell_type": "code",
   "execution_count": 25,
   "metadata": {},
   "outputs": [],
   "source": [
    "xgboost_endpoint_name = \"xgboost-endpoint-\" + strftime(\"%Y-%m-%d-%H-%M-%S\", gmtime())\n",
    "xgboost_predictor = xgb_train.deploy(\n",
    "    initial_instance_count=1, instance_type=\"ml.m5.xlarge\", endpoint_name=xgboost_endpoint_name\n",
    ")"
   ]
  },
  {
   "cell_type": "code",
   "execution_count": 33,
   "metadata": {},
   "outputs": [],
   "source": [
    "import awswrangler as wr\n",
    "test_df = wr.s3.read_csv(\n",
    "        path=test_path, dataset=True, nrows=50, header=None\n",
    "    )"
   ]
  },
  {
   "cell_type": "code",
   "execution_count": 91,
   "metadata": {
    "scrolled": true
   },
   "outputs": [
    {
     "data": {
      "text/plain": [
       "['18.535001754760742',\n",
       " '11.761689186096191',\n",
       " '15.242060661315918',\n",
       " '10.931342124938965',\n",
       " '28.7455997467041',\n",
       " '5.776196479797363',\n",
       " '17.04107093811035',\n",
       " '23.121328353881836',\n",
       " '23.43851089477539',\n",
       " '24.959461212158203',\n",
       " '17.03936195373535',\n",
       " '10.529860496520996',\n",
       " '13.59338092803955',\n",
       " '15.18577766418457',\n",
       " '29.108205795288086',\n",
       " '21.132905960083008',\n",
       " '10.574868202209473',\n",
       " '10.79728889465332',\n",
       " '7.7672014236450195',\n",
       " '16.365497589111328',\n",
       " '28.37923240661621',\n",
       " '7.599057197570801',\n",
       " '17.271512985229492',\n",
       " '11.84465503692627',\n",
       " '7.650399208068848',\n",
       " '16.048227310180664',\n",
       " '12.509238243103027',\n",
       " '24.174177169799805',\n",
       " '22.60703468322754',\n",
       " '17.289512634277344',\n",
       " '10.817380905151367',\n",
       " '16.75693130493164',\n",
       " '6.5838398933410645',\n",
       " '16.780078887939453',\n",
       " '6.483026504516602',\n",
       " '7.807983875274658',\n",
       " '15.202792167663574',\n",
       " '21.334579467773438',\n",
       " '22.63629150390625',\n",
       " '15.02584171295166',\n",
       " '32.15640640258789',\n",
       " '8.679388999938965',\n",
       " '20.924877166748047',\n",
       " '3.613661527633667',\n",
       " '7.0890374183654785',\n",
       " '25.154184341430664',\n",
       " '7.058923244476318',\n",
       " '18.583572387695312',\n",
       " '6.556534290313721',\n",
       " '7.1260085105896',\n",
       " '17.29636573791504',\n",
       " '11.487503051757812',\n",
       " '35.032718658447266',\n",
       " '18.201818466186523',\n",
       " '8.741583824157715',\n",
       " '15.794858932495117',\n",
       " '44.48213577270508',\n",
       " '15.961697578430176',\n",
       " '8.324894905090332',\n",
       " '15.608016014099121',\n",
       " '32.96622848510742',\n",
       " '14.48505687713623',\n",
       " '8.528165817260742',\n",
       " '9.66811466217041',\n",
       " '8.736233711242676',\n",
       " '10.1237154006958',\n",
       " '36.43312454223633',\n",
       " '7.37851619720459',\n",
       " '14.562095642089844',\n",
       " '35.608978271484375',\n",
       " '9.65053939819336',\n",
       " '21.05364990234375',\n",
       " '19.96894073486328',\n",
       " '25.686153411865234',\n",
       " '20.34064483642578',\n",
       " '20.881797790527344',\n",
       " '8.988133430480957',\n",
       " '11.600801467895508',\n",
       " '11.281227111816406',\n",
       " '11.58252239227295',\n",
       " '28.277591705322266',\n",
       " '13.881668090820312',\n",
       " '14.479456901550293',\n",
       " '41.15399169921875',\n",
       " '23.505727767944336',\n",
       " '15.038935661315918',\n",
       " '10.190719604492188',\n",
       " '18.071170806884766',\n",
       " '25.18731689453125',\n",
       " '22.667978286743164',\n",
       " '10.403382301330566',\n",
       " '36.3527717590332',\n",
       " '22.174274444580078',\n",
       " '6.830602645874023',\n",
       " '18.398374557495117',\n",
       " '19.795841217041016',\n",
       " '24.2242488861084',\n",
       " '11.4741792678833',\n",
       " '7.642066955566406',\n",
       " '14.504117965698242']"
      ]
     },
     "execution_count": 91,
     "metadata": {},
     "output_type": "execute_result"
    }
   ],
   "source": [
    "from sagemaker.serializers import CSVSerializer\n",
    "from sagemaker.deserializers import CSVDeserializer\n",
    "\n",
    "xgboost_predictor.serializer = CSVSerializer()\n",
    "xgboost_predictor.deserializer = CSVDeserializer()\n",
    "xgboost_predictor.predict(test_df.iloc[:,1:].values)[0]"
   ]
  },
  {
   "cell_type": "markdown",
   "metadata": {},
   "source": [
    "## Automatic model Tuning \n",
    "Amazon SageMaker automatic model tuning, also known as hyperparameter tuning, finds the best version of a model by running many training jobs on your dataset using the algorithm and ranges of hyperparameters that you specify. It then chooses the hyperparameter values that result in a model that performs the best, as measured by a metric that you choose.\n",
    "For example, suppose that you want to solve a binary classification problem on this marketing dataset. Your goal is to maximize the area under the curve (auc) metric of the algorithm by training an XGBoost Algorithm model. You don't know which values of the eta, alpha, min_child_weight, and max_depth hyperparameters to use to train the best model. To find the best values for these hyperparameters, you can specify ranges of values that Amazon SageMaker hyperparameter tuning searches to find the combination of values that results in the training job that performs the best as measured by the objective metric that you chose. Hyperparameter tuning launches training jobs that use hyperparameter values in the ranges that you specified, and returns the training job with highest auc.\n"
   ]
  },
  {
   "cell_type": "code",
   "execution_count": 115,
   "metadata": {},
   "outputs": [],
   "source": [
    "from sagemaker.tuner import IntegerParameter, CategoricalParameter, ContinuousParameter, HyperparameterTuner\n",
    "hyperparameter_ranges = {'eta': ContinuousParameter(0, 1),\n",
    "                            'min_child_weight': ContinuousParameter(1, 10),\n",
    "                            'alpha': ContinuousParameter(0, 2),\n",
    "                            'max_depth': IntegerParameter(1, 10)}"
   ]
  },
  {
   "cell_type": "code",
   "execution_count": 126,
   "metadata": {},
   "outputs": [],
   "source": [
    "objective_metric_name = 'validation:rmse'\n",
    "objective_type = 'Minimize'"
   ]
  },
  {
   "cell_type": "code",
   "execution_count": 127,
   "metadata": {},
   "outputs": [],
   "source": [
    "tuner = HyperparameterTuner(xgb_train,\n",
    "                            objective_metric_name,\n",
    "                            hyperparameter_ranges,\n",
    "                            objective_type=objective_type,\n",
    "                            max_jobs=10,\n",
    "                            max_parallel_jobs=3)"
   ]
  },
  {
   "cell_type": "code",
   "execution_count": 128,
   "metadata": {},
   "outputs": [
    {
     "name": "stdout",
     "output_type": "stream",
     "text": [
      "............................................................................................................................................................................................................................................................................................!\n"
     ]
    }
   ],
   "source": [
    "tuner.fit({'train': train_input, 'validation': validation_input})"
   ]
  },
  {
   "cell_type": "code",
   "execution_count": null,
   "metadata": {},
   "outputs": [],
   "source": [
    "boto3.client('sagemaker').describe_hyper_parameter_tuning_job(\n",
    "HyperParameterTuningJobName=tuner.latest_tuning_job.job_name)['HyperParameterTuningJobStatus']"
   ]
  },
  {
   "cell_type": "code",
   "execution_count": null,
   "metadata": {},
   "outputs": [],
   "source": [
    "# return the best training job name\n",
    "tuner.best_training_job()"
   ]
  },
  {
   "cell_type": "code",
   "execution_count": null,
   "metadata": {},
   "outputs": [],
   "source": [
    "#  Deploy the best trained or user specified model to an Amazon SageMaker endpoint\n",
    "tuner_predictor = tuner.deploy(initial_instance_count=1,\n",
    "                           instance_type='ml.m4.xlarge')"
   ]
  },
  {
   "cell_type": "code",
   "execution_count": null,
   "metadata": {},
   "outputs": [],
   "source": [
    "# Create a serializer\n",
    "tuner_predictor.serializer = CSVSerializer()\n",
    "tuner_predictor.deserializer = CSVDeserializer()"
   ]
  },
  {
   "cell_type": "code",
   "execution_count": null,
   "metadata": {},
   "outputs": [],
   "source": [
    "# Predict\n",
    "tuner_predictor.predict(test_df.iloc[:,1:].values)[0]"
   ]
  },
  {
   "cell_type": "markdown",
   "metadata": {},
   "source": [
    "### (Optional) Delete the Endpoint\n",
    "If you're done with this exercise, please run the delete_endpoint line in the cell below. This will remove the hosted endpoint and avoid any charges from a stray instance being left on."
   ]
  },
  {
   "cell_type": "code",
   "execution_count": 114,
   "metadata": {},
   "outputs": [],
   "source": [
    "xgboost_predictor.delete_endpoint(delete_endpoint_config=True)"
   ]
  },
  {
   "cell_type": "code",
   "execution_count": null,
   "metadata": {},
   "outputs": [],
   "source": [
    "tuner_predictor.delete_endpoint(delete_endpoint_config=True)"
   ]
  }
 ],
 "metadata": {
  "instance_type": "ml.t3.medium",
  "kernelspec": {
   "display_name": "Python 3 (Data Science)",
   "language": "python",
   "name": "python3__SAGEMAKER_INTERNAL__arn:aws:sagemaker:us-east-1:081325390199:image/datascience-1.0"
  },
  "language_info": {
   "codemirror_mode": {
    "name": "ipython",
    "version": 3
   },
   "file_extension": ".py",
   "mimetype": "text/x-python",
   "name": "python",
   "nbconvert_exporter": "python",
   "pygments_lexer": "ipython3",
   "version": "3.7.10"
  }
 },
 "nbformat": 4,
 "nbformat_minor": 4
}
